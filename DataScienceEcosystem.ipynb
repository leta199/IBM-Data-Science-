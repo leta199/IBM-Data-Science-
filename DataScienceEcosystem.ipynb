{
 "cells": [
  {
   "cell_type": "markdown",
   "id": "d7ef2d55-89dd-4f33-ab88-9dabf7446674",
   "metadata": {},
   "source": [
    "# Data Science Tools and Ecosysten\n"
   ]
  },
  {
   "cell_type": "markdown",
   "id": "257e92ad-64b3-4b0d-81b9-9481dd8cd263",
   "metadata": {},
   "source": [
    "Objectives:\n",
    "- Listing popular languages in data science \n",
    "- Listing popular data science libraries\n",
    "- Creating tbale using JUpyter markdown cells \n",
    "- Carrying out simple arithmetic using code cells "
   ]
  },
  {
   "cell_type": "markdown",
   "id": "e5c683ae-cdc8-46b0-8242-993404133771",
   "metadata": {},
   "source": [
    "## Author \n",
    "Atang Bakwena "
   ]
  },
  {
   "cell_type": "markdown",
   "id": "22404e24-c121-4d8b-bcb3-88182ddc823b",
   "metadata": {},
   "source": [
    "This notebook aims to summarise the tolls I've learned for data science. "
   ]
  },
  {
   "cell_type": "markdown",
   "id": "2d093cb8-338d-48c8-bbd6-3fde50f6b428",
   "metadata": {},
   "source": [
    "Some of the popular languages used in data science are:\n",
    "1. R and RStudio\n",
    "2. Python\n",
    "3. SQL\n",
    "4. Java"
   ]
  },
  {
   "cell_type": "markdown",
   "id": "85a226b8-1705-47e0-aae3-117a1f341e6b",
   "metadata": {},
   "source": [
    "Some commnly used libraries  in data science are: \n",
    "1. Numpy\n",
    "2. Plotly\n",
    "3. Scikit-learn\n",
    "4. Pandas\n"
   ]
  },
  {
   "cell_type": "markdown",
   "id": "15edb93b-9a86-4a39-9e37-99e159be586d",
   "metadata": {},
   "source": [
    "| Data Science Tools|\n",
    "|-------------------|\n",
    "|IBM Watson Studio|\n",
    "|Apache Zeplin|\n",
    "|Jupyter Notebook|\n",
    "\n"
   ]
  },
  {
   "cell_type": "code",
   "execution_count": 2,
   "id": "94c8f8a7-5638-451d-a869-5e96fd633f49",
   "metadata": {},
   "outputs": [
    {
     "data": {
      "text/plain": [
       "17"
      ]
     },
     "execution_count": 2,
     "metadata": {},
     "output_type": "execute_result"
    }
   ],
   "source": [
    "# This is a simple code line for the arithmetic adding and multiplication of integers. \n",
    "(3*4)+5"
   ]
  },
  {
   "cell_type": "code",
   "execution_count": 3,
   "id": "ed372f55-b25e-482f-946c-bb30feeceae7",
   "metadata": {},
   "outputs": [
    {
     "data": {
      "text/plain": [
       "3.3333333333333335"
      ]
     },
     "execution_count": 3,
     "metadata": {},
     "output_type": "execute_result"
    }
   ],
   "source": [
    "# This will convert 200 minutes into hours by dividing by 60.\n",
    "200/60"
   ]
  }
 ],
 "metadata": {
  "kernelspec": {
   "display_name": "Python 3 (ipykernel)",
   "language": "python",
   "name": "python3"
  },
  "language_info": {
   "codemirror_mode": {
    "name": "ipython",
    "version": 3
   },
   "file_extension": ".py",
   "mimetype": "text/x-python",
   "name": "python",
   "nbconvert_exporter": "python",
   "pygments_lexer": "ipython3",
   "version": "3.12.8"
  }
 },
 "nbformat": 4,
 "nbformat_minor": 5
}
